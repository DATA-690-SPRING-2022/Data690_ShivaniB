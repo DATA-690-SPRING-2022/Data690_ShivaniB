{
 "cells": [
  {
   "cell_type": "code",
   "execution_count": 1,
   "id": "71a04619",
   "metadata": {},
   "outputs": [
    {
     "name": "stdout",
     "output_type": "stream",
     "text": [
      "enter an integer:2\n",
      "2 is an integer\n",
      "enter an integer:3\n",
      "3 is an integer\n",
      "enter an integer:4\n",
      "4 is an integer\n",
      "enter an integer:5\n",
      "5 is an integer\n",
      "enter an integer:6\n",
      "6 is an integer\n",
      "enter an integer:7\n",
      "7 is an integer\n",
      "enter an integer:8\n",
      "8 is an integer\n",
      "enter an integer:9\n",
      "9 is an integer\n",
      "enter an integer:9\n",
      "9 is an integer\n",
      "enter an integer:10\n",
      "10 is an integer\n",
      "the list of integers: [2, 3, 4, 5, 6, 7, 8, 9, 9, 10]\n"
     ]
    }
   ],
   "source": [
    "my_integers = []\n",
    "\n",
    "while len(my_integers ) != 10:\n",
    "    x=input(\"enter an integer:\")\n",
    "    try:\n",
    "        y = int(x)\n",
    "        my_integers.append(y)\n",
    "        print(y, \"is an integer\")\n",
    "    except:\n",
    "        print(\"you must enter an integer, please try again\")\n",
    "\n",
    "print(\"the list of integers:\", my_integers)"
   ]
  },
  {
   "cell_type": "code",
   "execution_count": 17,
   "id": "66618d42",
   "metadata": {},
   "outputs": [
    {
     "name": "stdout",
     "output_type": "stream",
     "text": [
      "the mean is : 6.3\n",
      "Variance of list is: 7.566666666666666\n",
      "min value is  2\n",
      "max value is  10\n",
      "Range =  8\n",
      "Standard deviation of list is : 2.7507574714370344\n"
     ]
    }
   ],
   "source": [
    "a = len(my_integers)\n",
    "total = 0\n",
    "for i in range(a):\n",
    "      total = total + my_integers[i]\n",
    "\n",
    "mean = total / len(my_integers)\n",
    "print(\"the mean is :\", mean)\n",
    "Mklast = 0\n",
    "Mk = 0\n",
    "Sk = 0\n",
    "k  = 0 \n",
    "\n",
    "for xi in my_integers:\n",
    "    k = k +1\n",
    "    Mk = Mklast + (xi - Mklast) / k\n",
    "    Sk = Sk + (xi - Mklast) * ( xi - Mk)\n",
    "    Mklast = Mk\n",
    "\n",
    "var = Sk / (k -1)\n",
    "res = var ** 0.5\n",
    "print (\"Variance of list is:\",var)\n",
    "print(\"min value is \", min(my_integers))\n",
    "print(\"max value is \", max(my_integers))\n",
    "print(\"Range = \", max(my_integers) - min(my_integers))\n",
    "print(\"Standard deviation of list is : \" + str(res))"
   ]
  },
  {
   "cell_type": "code",
   "execution_count": null,
   "id": "3146bd9d",
   "metadata": {},
   "outputs": [],
   "source": []
  }
 ],
 "metadata": {
  "kernelspec": {
   "display_name": "Python 3",
   "language": "python",
   "name": "python3"
  },
  "language_info": {
   "codemirror_mode": {
    "name": "ipython",
    "version": 3
   },
   "file_extension": ".py",
   "mimetype": "text/x-python",
   "name": "python",
   "nbconvert_exporter": "python",
   "pygments_lexer": "ipython3",
   "version": "3.8.8"
  }
 },
 "nbformat": 4,
 "nbformat_minor": 5
}
