{
 "cells": [
  {
   "cell_type": "code",
   "execution_count": 3,
   "id": "a043af88",
   "metadata": {},
   "outputs": [],
   "source": [
    "x = [2,5,12, \"shivani\" , \"badinehal\"]"
   ]
  },
  {
   "cell_type": "code",
   "execution_count": 4,
   "id": "40479a01",
   "metadata": {},
   "outputs": [
    {
     "name": "stdout",
     "output_type": "stream",
     "text": [
      "[2, 5, 12, 'shivani', 'badinehal']\n"
     ]
    }
   ],
   "source": [
    "print(x)"
   ]
  },
  {
   "cell_type": "code",
   "execution_count": 14,
   "id": "52c1c8db",
   "metadata": {},
   "outputs": [
    {
     "name": "stdout",
     "output_type": "stream",
     "text": [
      "2* 5* 12* shivani* badinehal* "
     ]
    }
   ],
   "source": [
    "for a in x :\n",
    "    print(a,end= \"* \")"
   ]
  },
  {
   "cell_type": "code",
   "execution_count": 5,
   "id": "4d77368b",
   "metadata": {},
   "outputs": [
    {
     "data": {
      "text/plain": [
       "True"
      ]
     },
     "execution_count": 5,
     "metadata": {},
     "output_type": "execute_result"
    }
   ],
   "source": [
    "5 in x "
   ]
  },
  {
   "cell_type": "code",
   "execution_count": 8,
   "id": "39378508",
   "metadata": {},
   "outputs": [
    {
     "name": "stdout",
     "output_type": "stream",
     "text": [
      "5 is a member of a list x.\n"
     ]
    }
   ],
   "source": [
    "if 5 in x:\n",
    "    print(\"5 is a member of a list x.\")\n",
    "else:\n",
    "    print(\"5 is not a member\")\n",
    "    "
   ]
  },
  {
   "cell_type": "code",
   "execution_count": 9,
   "id": "b732a500",
   "metadata": {},
   "outputs": [],
   "source": [
    "y = [5,1,6,2,7,8,6,4,2]"
   ]
  },
  {
   "cell_type": "code",
   "execution_count": 10,
   "id": "91da95dc",
   "metadata": {},
   "outputs": [
    {
     "name": "stdout",
     "output_type": "stream",
     "text": [
      "[5, 1, 6, 2, 7, 8, 6, 4, 2]\n"
     ]
    }
   ],
   "source": [
    "print(y)"
   ]
  },
  {
   "cell_type": "code",
   "execution_count": 12,
   "id": "06c9fbc0",
   "metadata": {},
   "outputs": [
    {
     "name": "stdout",
     "output_type": "stream",
     "text": [
      "5\n",
      "1\n",
      "6\n",
      "2\n",
      "7\n",
      "8\n",
      "6\n",
      "4\n",
      "2\n"
     ]
    }
   ],
   "source": [
    "for b in y: \n",
    "    print(b)"
   ]
  },
  {
   "cell_type": "code",
   "execution_count": 13,
   "id": "2e352455",
   "metadata": {},
   "outputs": [
    {
     "name": "stdout",
     "output_type": "stream",
     "text": [
      "5 1 6 2 7 8 6 4 2 "
     ]
    }
   ],
   "source": [
    "for b in y:\n",
    "    print(b,end= \" \")"
   ]
  },
  {
   "cell_type": "code",
   "execution_count": 15,
   "id": "365d3990",
   "metadata": {},
   "outputs": [],
   "source": [
    "import random"
   ]
  },
  {
   "cell_type": "code",
   "execution_count": 16,
   "id": "9ead933d",
   "metadata": {},
   "outputs": [
    {
     "data": {
      "text/plain": [
       "9"
      ]
     },
     "execution_count": 16,
     "metadata": {},
     "output_type": "execute_result"
    }
   ],
   "source": [
    "random.randint(0,9)"
   ]
  },
  {
   "cell_type": "code",
   "execution_count": 24,
   "id": "ed914519",
   "metadata": {},
   "outputs": [
    {
     "name": "stdout",
     "output_type": "stream",
     "text": [
      "2 2 6 2 9 8 2 4 6 1 \n",
      "1 3 3 4 8 2 7 7 7 9 \n",
      "8 3 7 4 2 1 0 5 7 9 \n",
      "4 4 0 4 2 8 3 1 1 5 \n",
      "0 1 5 5 6 7 0 3 1 2 \n",
      "1 7 5 2 1 9 2 8 0 7 \n",
      "6 4 6 7 5 9 6 1 3 5 \n",
      "0 7 3 7 4 2 3 7 7 2 \n",
      "2 9 9 2 4 9 1 8 9 9 \n",
      "6 1 8 3 8 3 0 1 9 5 \n"
     ]
    }
   ],
   "source": [
    "for j in range(10):\n",
    "    for i in range(10):\n",
    "        print(random.randint(0,9),end= \" \")\n",
    "    #print(\"\\n\",end=\"\")\n",
    "    print(\"\")\n",
    "    "
   ]
  },
  {
   "cell_type": "code",
   "execution_count": null,
   "id": "a6ca350a",
   "metadata": {},
   "outputs": [],
   "source": []
  }
 ],
 "metadata": {
  "kernelspec": {
   "display_name": "Python 3",
   "language": "python",
   "name": "python3"
  },
  "language_info": {
   "codemirror_mode": {
    "name": "ipython",
    "version": 3
   },
   "file_extension": ".py",
   "mimetype": "text/x-python",
   "name": "python",
   "nbconvert_exporter": "python",
   "pygments_lexer": "ipython3",
   "version": "3.8.8"
  }
 },
 "nbformat": 4,
 "nbformat_minor": 5
}
