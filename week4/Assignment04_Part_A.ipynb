{
  "nbformat": 4,
  "nbformat_minor": 0,
  "metadata": {
    "colab": {
      "name": "Assignment04-Part-A ",
      "provenance": []
    },
    "kernelspec": {
      "name": "python3",
      "display_name": "Python 3"
    },
    "language_info": {
      "name": "python"
    }
  },
  "cells": [
    {
      "cell_type": "code",
      "execution_count": 1,
      "metadata": {
        "id": "iE_D23rMqzW7"
      },
      "outputs": [],
      "source": [
        "import pandas as pd"
      ]
    },
    {
      "cell_type": "markdown",
      "source": [
        "#### 1.Write code to open the text file census_costs.txt and read all lines into a list named \"line_list\". Print line_list."
      ],
      "metadata": {
        "id": "1ly9W0vLCgb1"
      }
    },
    {
      "cell_type": "code",
      "source": [
        "with open(\"/content/census_costs.txt\" , \"r\") as a:\n",
        "   line_list = a.readlines()\n",
        "print(line_list)"
      ],
      "metadata": {
        "colab": {
          "base_uri": "https://localhost:8080/"
        },
        "id": "H-WkFVqrq2Vb",
        "outputId": "609c7347-a4f0-4c9a-a5e3-b64d4ccfbd42"
      },
      "execution_count": 14,
      "outputs": [
        {
          "output_type": "stream",
          "name": "stdout",
          "text": [
            "['Source: https://www.genealogybranches.com/censuscosts.html\\n', 'Census Year\\tTotal Population\\tCensus Cost\\tAverage Cost Per Person\\n', '1790\\t3,929,214\\t$44,377\\t1.13 cents\\n', '1800\\t5,308,483\\t$66,109\\t1.24 cents\\n', '1810\\t7,239,881\\t$178,445\\t2.46 cents\\n', '1820\\t9,633,822\\t$208,526\\t2.16 cents\\n', '1830\\t12,866,020\\t$378,545\\t2.94 cents\\n', '1840\\t17,069,458\\t$833,371\\t4.88 cents\\n', '1850\\t23,191,876\\t$1,423,351\\t6.14 cents\\n', '1860\\t31,443,321\\t$1,969,377\\t6.26 cents\\n', '1870\\t38,558,371\\t$3,421,198\\t8.87 cents\\n', '1880\\t50,155,783\\t$5,790,678\\t11.54 cents\\n', '1890\\t62,979,766\\t$11,547,127\\t18.33 cents\\n', '1900\\t76,303,387\\t$11,854,000\\t15.54 cents\\n', '1910\\t91,972,266\\t$15,968,000\\t17.07 cents\\n', '1920\\t105,710,620\\t$25,117,000\\t23.76 cents\\n', '1930\\t122,775,046\\t$40,156,000\\t32.71 cents\\n', '1940\\t131,669,275\\t$67,527,000\\t51.29 cents\\n', '1950\\t151,325,798\\t$91,462,000\\t60.44 cents\\n', '1960\\t179,323,175\\t$127,934,000\\t71.34 cents\\n', '1970\\t203,302,031\\t$247,653,000\\t$1.22\\n', '1980\\t226,542,199\\t$1,078,488,000\\t$4.76\\n', '1990\\t248,718,301\\t$2,492,830,000\\t$10.02\\n', '2000\\t281,421,906\\t$4.5 Billion\\t$15.99\\n', '2010*\\t308,745,538\\t$13 Billion\\t$42.11\\n']\n"
          ]
        }
      ]
    },
    {
      "cell_type": "markdown",
      "source": [
        "#### 2.Extract the first two lines and put them in a different list named \"top2_list\". You will need to use them later. Print the top2_list."
      ],
      "metadata": {
        "id": "F58dDpzRDlfj"
      }
    },
    {
      "cell_type": "code",
      "source": [
        "top2_list = 0 \n",
        "top2_list = line_list[:5]"
      ],
      "metadata": {
        "id": "EdajdKhk6H1V"
      },
      "execution_count": 11,
      "outputs": []
    },
    {
      "cell_type": "code",
      "source": [
        "top2_list"
      ],
      "metadata": {
        "colab": {
          "base_uri": "https://localhost:8080/"
        },
        "id": "zC4z9lpSDyYn",
        "outputId": "3e19e764-96b9-46c8-ec7e-252cc5d02564"
      },
      "execution_count": 8,
      "outputs": [
        {
          "output_type": "execute_result",
          "data": {
            "text/plain": [
              "['Source: https://www.genealogybranches.com/censuscosts.html\\n']"
            ]
          },
          "metadata": {},
          "execution_count": 8
        }
      ]
    },
    {
      "cell_type": "markdown",
      "source": [
        "#### 3.Put the rest of the lines (containing useful data elements) in a new list named \"data_list\". Print data_list"
      ],
      "metadata": {
        "id": "zVuXTU8MD7KG"
      }
    },
    {
      "cell_type": "code",
      "source": [
        "data_list = 0 \n",
        "data_list = line_list[1:]\n",
        "print(data_list)"
      ],
      "metadata": {
        "colab": {
          "base_uri": "https://localhost:8080/"
        },
        "id": "p3_ghFRgD122",
        "outputId": "e8266d96-cb14-437f-a571-18a84df98501"
      },
      "execution_count": 97,
      "outputs": [
        {
          "output_type": "stream",
          "name": "stdout",
          "text": [
            "['Census Year\\tTotal Population\\tCensus Cost\\tAverage Cost Per Person\\n', '1790\\t3,929,214\\t$44,377\\t1.13 cents\\n', '1800\\t5,308,483\\t$66,109\\t1.24 cents\\n', '1810\\t7,239,881\\t$178,445\\t2.46 cents\\n', '1820\\t9,633,822\\t$208,526\\t2.16 cents\\n', '1830\\t12,866,020\\t$378,545\\t2.94 cents\\n', '1840\\t17,069,458\\t$833,371\\t4.88 cents\\n', '1850\\t23,191,876\\t$1,423,351\\t6.14 cents\\n', '1860\\t31,443,321\\t$1,969,377\\t6.26 cents\\n', '1870\\t38,558,371\\t$3,421,198\\t8.87 cents\\n', '1880\\t50,155,783\\t$5,790,678\\t11.54 cents\\n', '1890\\t62,979,766\\t$11,547,127\\t18.33 cents\\n', '1900\\t76,303,387\\t$11,854,000\\t15.54 cents\\n', '1910\\t91,972,266\\t$15,968,000\\t17.07 cents\\n', '1920\\t105,710,620\\t$25,117,000\\t23.76 cents\\n', '1930\\t122,775,046\\t$40,156,000\\t32.71 cents\\n', '1940\\t131,669,275\\t$67,527,000\\t51.29 cents\\n', '1950\\t151,325,798\\t$91,462,000\\t60.44 cents\\n', '1960\\t179,323,175\\t$127,934,000\\t71.34 cents\\n', '1970\\t203,302,031\\t$247,653,000\\t$1.22\\n', '1980\\t226,542,199\\t$1,078,488,000\\t$4.76\\n', '1990\\t248,718,301\\t$2,492,830,000\\t$10.02\\n', '2000\\t281,421,906\\t$4.5 Billion\\t$15.99\\n', '2010*\\t308,745,538\\t$13 Billion\\t$42.11\\n']\n"
          ]
        }
      ]
    },
    {
      "cell_type": "code",
      "source": [
        "for j in range(len(line_list)):\n",
        "  print(line_list[j], sep='\\t')"
      ],
      "metadata": {
        "colab": {
          "base_uri": "https://localhost:8080/"
        },
        "id": "18wteGxbFNqb",
        "outputId": "94bd219e-8301-48cb-bc1e-a7780255ebd3"
      },
      "execution_count": 15,
      "outputs": [
        {
          "output_type": "stream",
          "name": "stdout",
          "text": [
            "Source: https://www.genealogybranches.com/censuscosts.html\n",
            "\n",
            "Census Year\tTotal Population\tCensus Cost\tAverage Cost Per Person\n",
            "\n",
            "1790\t3,929,214\t$44,377\t1.13 cents\n",
            "\n",
            "1800\t5,308,483\t$66,109\t1.24 cents\n",
            "\n",
            "1810\t7,239,881\t$178,445\t2.46 cents\n",
            "\n",
            "1820\t9,633,822\t$208,526\t2.16 cents\n",
            "\n",
            "1830\t12,866,020\t$378,545\t2.94 cents\n",
            "\n",
            "1840\t17,069,458\t$833,371\t4.88 cents\n",
            "\n",
            "1850\t23,191,876\t$1,423,351\t6.14 cents\n",
            "\n",
            "1860\t31,443,321\t$1,969,377\t6.26 cents\n",
            "\n",
            "1870\t38,558,371\t$3,421,198\t8.87 cents\n",
            "\n",
            "1880\t50,155,783\t$5,790,678\t11.54 cents\n",
            "\n",
            "1890\t62,979,766\t$11,547,127\t18.33 cents\n",
            "\n",
            "1900\t76,303,387\t$11,854,000\t15.54 cents\n",
            "\n",
            "1910\t91,972,266\t$15,968,000\t17.07 cents\n",
            "\n",
            "1920\t105,710,620\t$25,117,000\t23.76 cents\n",
            "\n",
            "1930\t122,775,046\t$40,156,000\t32.71 cents\n",
            "\n",
            "1940\t131,669,275\t$67,527,000\t51.29 cents\n",
            "\n",
            "1950\t151,325,798\t$91,462,000\t60.44 cents\n",
            "\n",
            "1960\t179,323,175\t$127,934,000\t71.34 cents\n",
            "\n",
            "1970\t203,302,031\t$247,653,000\t$1.22\n",
            "\n",
            "1980\t226,542,199\t$1,078,488,000\t$4.76\n",
            "\n",
            "1990\t248,718,301\t$2,492,830,000\t$10.02\n",
            "\n",
            "2000\t281,421,906\t$4.5 Billion\t$15.99\n",
            "\n",
            "2010*\t308,745,538\t$13 Billion\t$42.11\n",
            "\n"
          ]
        }
      ]
    },
    {
      "cell_type": "code",
      "source": [
        "column_names = [line.split(\",\")[0] for line in line_list[:1]]\n",
        "\n",
        "print(column_names)"
      ],
      "metadata": {
        "colab": {
          "base_uri": "https://localhost:8080/"
        },
        "id": "_9wHDjK8FN0w",
        "outputId": "03a71b35-2dc1-4a53-f4cc-3ffc9451c3f0"
      },
      "execution_count": 21,
      "outputs": [
        {
          "output_type": "stream",
          "name": "stdout",
          "text": [
            "['Source: https://www.genealogybranches.com/censuscosts.html\\n']\n"
          ]
        }
      ]
    },
    {
      "cell_type": "markdown",
      "source": [
        "#### 4.Extract the column \"Census Year\" from data_list and assign them to a list named year_list. Remove the \"*\" from the last element \"2010*\". Print the cleansed year_list."
      ],
      "metadata": {
        "id": "yrMVSscoEv7A"
      }
    },
    {
      "cell_type": "code",
      "source": [
        "year_list= [line.split(\"\\t\")[0] for line in data_list ]\n",
        "print(year_list)"
      ],
      "metadata": {
        "colab": {
          "base_uri": "https://localhost:8080/"
        },
        "id": "oezmaivhGL2E",
        "outputId": "1ac4965c-f95b-49f4-d3b0-4d36ab70a3fa"
      },
      "execution_count": 32,
      "outputs": [
        {
          "output_type": "stream",
          "name": "stdout",
          "text": [
            "['1820', '1830', '1840', '1850', '1860', '1870', '1880', '1890', '1900', '1910', '1920', '1930', '1940', '1950', '1960', '1970', '1980', '1990', '2000', '2010*']\n"
          ]
        }
      ]
    },
    {
      "cell_type": "code",
      "source": [
        "year_list1 = [line.strip(\"*\") for line in year_list]\n",
        "print(year_list1)"
      ],
      "metadata": {
        "colab": {
          "base_uri": "https://localhost:8080/"
        },
        "id": "b3MLpTkqGbeM",
        "outputId": "2c0ff95d-def6-4945-95de-a9e4da9adf51"
      },
      "execution_count": 30,
      "outputs": [
        {
          "output_type": "stream",
          "name": "stdout",
          "text": [
            "['1820', '1830', '1840', '1850', '1860', '1870', '1880', '1890', '1900', '1910', '1920', '1930', '1940', '1950', '1960', '1970', '1980', '1990', '2000', '2010']\n"
          ]
        }
      ]
    },
    {
      "cell_type": "markdown",
      "source": [
        "#### 5.Extract the \"Total Population\" column from the data_list and assign them to a list named \"pop_list\". Remove the \",\" from the numbers since Python doesn't recognize them. Print the cleansed \"pop_list\"."
      ],
      "metadata": {
        "id": "DkoPouY6G9AS"
      }
    },
    {
      "cell_type": "code",
      "source": [
        "census= [line.split(\"\\t\")[1] for line in data_list ]\n",
        "print(census)"
      ],
      "metadata": {
        "colab": {
          "base_uri": "https://localhost:8080/"
        },
        "id": "eNRVyKSqGkjg",
        "outputId": "ca07bf80-7d8c-47bc-9253-76668a43c912"
      },
      "execution_count": 34,
      "outputs": [
        {
          "output_type": "stream",
          "name": "stdout",
          "text": [
            "['9,633,822', '12,866,020', '17,069,458', '23,191,876', '31,443,321', '38,558,371', '50,155,783', '62,979,766', '76,303,387', '91,972,266', '105,710,620', '122,775,046', '131,669,275', '151,325,798', '179,323,175', '203,302,031', '226,542,199', '248,718,301', '281,421,906', '308,745,538']\n"
          ]
        }
      ]
    },
    {
      "cell_type": "code",
      "source": [
        "def remove_comma(number):\n",
        "\n",
        "    number = number.replace(\",\", \"\")\n",
        "    return number"
      ],
      "metadata": {
        "id": "Y1wp5JruHHqw"
      },
      "execution_count": 36,
      "outputs": []
    },
    {
      "cell_type": "code",
      "source": [
        "pop_list=[0]\n",
        "for y in census:\n",
        "    ppl = remove_comma(y)\n",
        "    pop_list.append(ppl)\n",
        "  \n",
        "print(pop_list)"
      ],
      "metadata": {
        "colab": {
          "base_uri": "https://localhost:8080/"
        },
        "id": "HO37lZQkHhRL",
        "outputId": "39099c0c-ae81-4563-9792-01caa30af320"
      },
      "execution_count": 39,
      "outputs": [
        {
          "output_type": "stream",
          "name": "stdout",
          "text": [
            "[0, '9633822', '12866020', '17069458', '23191876', '31443321', '38558371', '50155783', '62979766', '76303387', '91972266', '105710620', '122775046', '131669275', '151325798', '179323175', '203302031', '226542199', '248718301', '281421906', '308745538']\n"
          ]
        }
      ]
    },
    {
      "cell_type": "markdown",
      "source": [
        "#### 6.Extract the \"Census Cost\" column from the data_list and assign them to a list named \"cost_list\". Remove the \",\", and \"$\", and \"Billion\". Make sure to add the \"0\"s to the numbers from which you removed \"Billion\". Print the cleansed cost_list."
      ],
      "metadata": {
        "id": "pekG-IFUIWNk"
      }
    },
    {
      "cell_type": "code",
      "source": [
        "cost_list = [line.split(\"\\t\")[2] for line in data_list ]\n",
        "print(cost_list)\n"
      ],
      "metadata": {
        "colab": {
          "base_uri": "https://localhost:8080/"
        },
        "id": "G1gg2fx9HxME",
        "outputId": "01441e5f-f21d-4209-be20-c1e79b596ab0"
      },
      "execution_count": 117,
      "outputs": [
        {
          "output_type": "stream",
          "name": "stdout",
          "text": [
            "['Census Cost', '$44,377', '$66,109', '$178,445', '$208,526', '$378,545', '$833,371', '$1,423,351', '$1,969,377', '$3,421,198', '$5,790,678', '$11,547,127', '$11,854,000', '$15,968,000', '$25,117,000', '$40,156,000', '$67,527,000', '$91,462,000', '$127,934,000', '$247,653,000', '$1,078,488,000', '$2,492,830,000', '$4.5 Billion', '$13 Billion']\n"
          ]
        }
      ]
    },
    {
      "cell_type": "code",
      "source": [
        "for i, a in enumerate(cost_list):\n",
        "  a = a.replace(\",\",\"\").replace(\"$\",\"\")\n",
        "  if 'Billion' in a:\n",
        "    a = float(str(a).replace(\"Billion\",\"\"))\n",
        "    a = int(float(a)  * 1000000000)\n",
        "  cost_list[i] = str(a)\n",
        "print(cost_list)"
      ],
      "metadata": {
        "colab": {
          "base_uri": "https://localhost:8080/"
        },
        "id": "CQKxeObvIqa-",
        "outputId": "4ee570db-5b1e-4553-d891-4678a6f96488"
      },
      "execution_count": 118,
      "outputs": [
        {
          "output_type": "stream",
          "name": "stdout",
          "text": [
            "['Census Cost', '44377', '66109', '178445', '208526', '378545', '833371', '1423351', '1969377', '3421198', '5790678', '11547127', '11854000', '15968000', '25117000', '40156000', '67527000', '91462000', '127934000', '247653000', '1078488000', '2492830000', '4500000000', '13000000000']\n"
          ]
        }
      ]
    },
    {
      "cell_type": "code",
      "source": [
        "cost_list = []\n",
        "for line in data_list:\n",
        "    cost = line.split(\"\\t\")[2]\n",
        "    cost = cleanse_cost(cost)\n",
        "    cost_list.append(cost)\n",
        "\n",
        "print(cost_list)"
      ],
      "metadata": {
        "colab": {
          "base_uri": "https://localhost:8080/"
        },
        "id": "sVHavZGnItmd",
        "outputId": "31e06040-ca74-4d9c-b25f-3e85ea88be82"
      },
      "execution_count": 119,
      "outputs": [
        {
          "output_type": "stream",
          "name": "stdout",
          "text": [
            "['Census Cost', '44377', '66109', '178445', '208526', '378545', '833371', '1423351', '1969377', '3421198', '5790678', '11547127', '11854000', '15968000', '25117000', '40156000', '67527000', '91462000', '127934000', '247653000', '1078488000', '2492830000', '4500000000', '13000000000']\n"
          ]
        }
      ]
    },
    {
      "cell_type": "markdown",
      "source": [
        "#### 7.Extract the \"Average Cost per Person\" column from the data_list and assign them to a list named \"avg_list\". Remove the \"cents\", and \"$\". Make sure to divide the numbers in cents by 100 so that all numbers are measured in dollar. Print the cleansed avg_list."
      ],
      "metadata": {
        "id": "BBPtmEZnKTd_"
      }
    },
    {
      "cell_type": "code",
      "source": [
        "average = [line.split(\"\\t\")[-1] for line in data_list ]\n",
        "print(average)"
      ],
      "metadata": {
        "colab": {
          "base_uri": "https://localhost:8080/"
        },
        "id": "0GdtEzmQIxBw",
        "outputId": "a946fa00-cf25-4b68-fc70-272ba07de8ab"
      },
      "execution_count": 130,
      "outputs": [
        {
          "output_type": "stream",
          "name": "stdout",
          "text": [
            "['Average Cost Per Person\\n', '1.13 cents\\n', '1.24 cents\\n', '2.46 cents\\n', '2.16 cents\\n', '2.94 cents\\n', '4.88 cents\\n', '6.14 cents\\n', '6.26 cents\\n', '8.87 cents\\n', '11.54 cents\\n', '18.33 cents\\n', '15.54 cents\\n', '17.07 cents\\n', '23.76 cents\\n', '32.71 cents\\n', '51.29 cents\\n', '60.44 cents\\n', '71.34 cents\\n', '$1.22\\n', '$4.76\\n', '$10.02\\n', '$15.99\\n', '$42.11\\n']\n"
          ]
        }
      ]
    },
    {
      "cell_type": "code",
      "source": [
        "avg_list = [line.split('\\t')[3] for line in data_list]\n",
        "print(avg_list)"
      ],
      "metadata": {
        "colab": {
          "base_uri": "https://localhost:8080/"
        },
        "id": "uNOia2OTbhzf",
        "outputId": "c9085f0e-8d22-4265-8d62-c1c0b43e78dc"
      },
      "execution_count": 132,
      "outputs": [
        {
          "output_type": "stream",
          "name": "stdout",
          "text": [
            "['Average Cost Per Person\\n', '1.13 cents\\n', '1.24 cents\\n', '2.46 cents\\n', '2.16 cents\\n', '2.94 cents\\n', '4.88 cents\\n', '6.14 cents\\n', '6.26 cents\\n', '8.87 cents\\n', '11.54 cents\\n', '18.33 cents\\n', '15.54 cents\\n', '17.07 cents\\n', '23.76 cents\\n', '32.71 cents\\n', '51.29 cents\\n', '60.44 cents\\n', '71.34 cents\\n', '$1.22\\n', '$4.76\\n', '$10.02\\n', '$15.99\\n', '$42.11\\n']\n"
          ]
        }
      ]
    },
    {
      "cell_type": "code",
      "source": [
        "for ix, a in enumerate(avg_list):\n",
        "  a = a.replace(\"$\", \"\").replace('\\n','')\n",
        "  if 'cents' in a:\n",
        "    a = float(str(a).replace(\"cents\", \"\"))\n",
        "    a = round(float(a/ 100), 4)\n",
        "  avg_list[ix] = str(a)\n",
        "print(avg_list)"
      ],
      "metadata": {
        "colab": {
          "base_uri": "https://localhost:8080/"
        },
        "id": "DXUDWTLtaqOD",
        "outputId": "17e6903c-571f-4d89-8ac2-e9d4cf5fd6ab"
      },
      "execution_count": 133,
      "outputs": [
        {
          "output_type": "stream",
          "name": "stdout",
          "text": [
            "['Average Cost Per Person', '0.0113', '0.0124', '0.0246', '0.0216', '0.0294', '0.0488', '0.0614', '0.0626', '0.0887', '0.1154', '0.1833', '0.1554', '0.1707', '0.2376', '0.3271', '0.5129', '0.6044', '0.7134', '1.22', '4.76', '10.02', '15.99', '42.11']\n"
          ]
        }
      ]
    },
    {
      "cell_type": "markdown",
      "source": [
        "#####  8.Coalesce the cleansed data and save them to a text file named \"census_cost.csv\". The new file should look similar to the original source file except that it is in comma-delimited format and the numbers have been cleansed. The top two lines from the original file should be retained in the new file."
      ],
      "metadata": {
        "id": "nBKxVq8Fb8Hp"
      }
    },
    {
      "cell_type": "code",
      "source": [
        "final_list = []\n",
        "final_list.append(column_names)\n",
        "# final_list.append(top2_list)\n",
        "\n",
        "for i in top2_list:\n",
        "  temp = [i]\n",
        "  final_list.append(temp)\n",
        "\n",
        "for i in range(len(year_list)):\n",
        "  data = [year_list1[i]+\" \"+str(pop_list[i])+\" \"+str(cost_list[i])+\"  \"+str(avg_list[i])]\n",
        "  final_list.append(data)"
      ],
      "metadata": {
        "id": "DYSCsiOaLYbM"
      },
      "execution_count": 100,
      "outputs": []
    },
    {
      "cell_type": "code",
      "source": [
        "print(final_list)"
      ],
      "metadata": {
        "colab": {
          "base_uri": "https://localhost:8080/"
        },
        "id": "Vy4vtKRRV7eK",
        "outputId": "aa606d11-457b-4198-ba42-afb715a12e39"
      },
      "execution_count": 104,
      "outputs": [
        {
          "output_type": "stream",
          "name": "stdout",
          "text": [
            "[['Source: https://www.genealogybranches.com/censuscosts.html\\n'], ['Source: https://www.genealogybranches.com/censuscosts.html\\n'], ['Census Year\\tTotal Population\\tCensus Cost\\tAverage Cost Per Person\\n'], ['1790\\t3,929,214\\t$44,377\\t1.13 cents\\n'], ['1800\\t5,308,483\\t$66,109\\t1.24 cents\\n'], ['1810\\t7,239,881\\t$178,445\\t2.46 cents\\n'], ['1820 0 208526  0.0216'], ['1830 9633822 378545  0.0294'], ['1840 12866020 833371  0.048799999999999996'], ['1850 17069458 1423351  0.061399999999999996'], ['1860 23191876 1969377  0.0626'], ['1870 31443321 3421198  0.08869999999999999'], ['1880 38558371 5790678  0.11539999999999999'], ['1890 50155783 11547127  0.1833'], ['1900 62979766 11854000  0.15539999999999998'], ['1910 76303387 15968000  0.1707'], ['1920 91972266 25117000  0.2376'], ['1930 105710620 40156000  0.3271'], ['1940 122775046 67527000  0.5129'], ['1950 131669275 91462000  0.6043999999999999'], ['1960 151325798 127934000  0.7134'], ['1970 179323175 247653000  0.012199999999999999'], ['1980 203302031 1078488000  0.047599999999999996'], ['1990 226542199 2492830000  0.1002'], ['2000 248718301 4500000000  0.15990000000000001'], ['2010 281421906 13000000000  0.4211']]\n"
          ]
        }
      ]
    },
    {
      "cell_type": "code",
      "source": [
        "for j in range(len(final_list)):\n",
        "  final = final_list[j]"
      ],
      "metadata": {
        "id": "DOi18Tm-MiiE"
      },
      "execution_count": 140,
      "outputs": []
    },
    {
      "cell_type": "code",
      "source": [
        "print(final)"
      ],
      "metadata": {
        "colab": {
          "base_uri": "https://localhost:8080/"
        },
        "id": "ZY_vXOPwV4OB",
        "outputId": "b2116700-2acc-47c5-d79b-d4e3d8b1fd84"
      },
      "execution_count": 141,
      "outputs": [
        {
          "output_type": "stream",
          "name": "stdout",
          "text": [
            "['2010 281421906 13000000000  0.4211']\n"
          ]
        }
      ]
    },
    {
      "cell_type": "markdown",
      "source": [
        "#### 9.Write code to open the newly-created file \"census_cost.csv\", read all lines and display them. How does it look?"
      ],
      "metadata": {
        "id": "PesqWH2qWKp8"
      }
    },
    {
      "cell_type": "code",
      "source": [
        "import csv\n",
        "with open(\"census_cost.csv\",\"w\") as f:\n",
        "  for j in range(len(final_list)):\n",
        "      final = final_list[j]\n",
        "      for j in final:\n",
        "        f.write(j)"
      ],
      "metadata": {
        "id": "ACNrT89tVs-o"
      },
      "execution_count": 145,
      "outputs": []
    }
  ]
}